{
 "cells": [
  {
   "cell_type": "code",
   "execution_count": 1,
   "id": "5534a1fa-39a0-4837-8296-aeee431e8be9",
   "metadata": {},
   "outputs": [
    {
     "name": "stderr",
     "output_type": "stream",
     "text": [
      "Loading required package: rpanel\n",
      "\n",
      "Loading required package: tcltk\n",
      "\n",
      "Package `rpanel', version 1.1-5: type help(rpanel) for summary information\n",
      "\n",
      "Loading required package: xtable\n",
      "\n"
     ]
    }
   ],
   "source": [
    "library(LinRegInteractive)"
   ]
  },
  {
   "cell_type": "code",
   "execution_count": 2,
   "id": "51fcea4e-6646-41b9-af0e-cbf16658a994",
   "metadata": {},
   "outputs": [
    {
     "data": {
      "text/html": [
       "<table class=\"dataframe\">\n",
       "<caption>A data.frame: 5 × 12</caption>\n",
       "<thead>\n",
       "\t<tr><th></th><th scope=col>rent</th><th scope=col>rentsqm</th><th scope=col>area</th><th scope=col>rooms</th><th scope=col>yearc</th><th scope=col>bathextra</th><th scope=col>bathtile</th><th scope=col>cheating</th><th scope=col>district</th><th scope=col>location</th><th scope=col>upkitchen</th><th scope=col>wwater</th></tr>\n",
       "\t<tr><th></th><th scope=col>&lt;dbl&gt;</th><th scope=col>&lt;dbl&gt;</th><th scope=col>&lt;int&gt;</th><th scope=col>&lt;int&gt;</th><th scope=col>&lt;dbl&gt;</th><th scope=col>&lt;fct&gt;</th><th scope=col>&lt;fct&gt;</th><th scope=col>&lt;fct&gt;</th><th scope=col>&lt;fct&gt;</th><th scope=col>&lt;ord&gt;</th><th scope=col>&lt;fct&gt;</th><th scope=col>&lt;fct&gt;</th></tr>\n",
       "</thead>\n",
       "<tbody>\n",
       "\t<tr><th scope=row>1</th><td>741.39</td><td>10.90</td><td> 68</td><td>2</td><td>1918</td><td>no </td><td>yes</td><td>yes</td><td>Lud-Isar</td><td>good  </td><td>no </td><td>yes</td></tr>\n",
       "\t<tr><th scope=row>2</th><td>715.82</td><td>11.01</td><td> 65</td><td>2</td><td>1995</td><td>no </td><td>yes</td><td>yes</td><td>Lud-Isar</td><td>good  </td><td>no </td><td>yes</td></tr>\n",
       "\t<tr><th scope=row>3</th><td>528.25</td><td> 8.38</td><td> 63</td><td>3</td><td>1918</td><td>no </td><td>yes</td><td>yes</td><td>Lud-Isar</td><td>good  </td><td>no </td><td>yes</td></tr>\n",
       "\t<tr><th scope=row>4</th><td>553.99</td><td> 8.52</td><td> 65</td><td>3</td><td>1983</td><td>yes</td><td>yes</td><td>yes</td><td>Ram-Per </td><td>normal</td><td>no </td><td>yes</td></tr>\n",
       "\t<tr><th scope=row>5</th><td>698.21</td><td> 6.98</td><td>100</td><td>4</td><td>1995</td><td>yes</td><td>yes</td><td>yes</td><td>Ram-Per </td><td>good  </td><td>yes</td><td>yes</td></tr>\n",
       "</tbody>\n",
       "</table>\n"
      ],
      "text/latex": [
       "A data.frame: 5 × 12\n",
       "\\begin{tabular}{r|llllllllllll}\n",
       "  & rent & rentsqm & area & rooms & yearc & bathextra & bathtile & cheating & district & location & upkitchen & wwater\\\\\n",
       "  & <dbl> & <dbl> & <int> & <int> & <dbl> & <fct> & <fct> & <fct> & <fct> & <ord> & <fct> & <fct>\\\\\n",
       "\\hline\n",
       "\t1 & 741.39 & 10.90 &  68 & 2 & 1918 & no  & yes & yes & Lud-Isar & good   & no  & yes\\\\\n",
       "\t2 & 715.82 & 11.01 &  65 & 2 & 1995 & no  & yes & yes & Lud-Isar & good   & no  & yes\\\\\n",
       "\t3 & 528.25 &  8.38 &  63 & 3 & 1918 & no  & yes & yes & Lud-Isar & good   & no  & yes\\\\\n",
       "\t4 & 553.99 &  8.52 &  65 & 3 & 1983 & yes & yes & yes & Ram-Per  & normal & no  & yes\\\\\n",
       "\t5 & 698.21 &  6.98 & 100 & 4 & 1995 & yes & yes & yes & Ram-Per  & good   & yes & yes\\\\\n",
       "\\end{tabular}\n"
      ],
      "text/markdown": [
       "\n",
       "A data.frame: 5 × 12\n",
       "\n",
       "| <!--/--> | rent &lt;dbl&gt; | rentsqm &lt;dbl&gt; | area &lt;int&gt; | rooms &lt;int&gt; | yearc &lt;dbl&gt; | bathextra &lt;fct&gt; | bathtile &lt;fct&gt; | cheating &lt;fct&gt; | district &lt;fct&gt; | location &lt;ord&gt; | upkitchen &lt;fct&gt; | wwater &lt;fct&gt; |\n",
       "|---|---|---|---|---|---|---|---|---|---|---|---|---|\n",
       "| 1 | 741.39 | 10.90 |  68 | 2 | 1918 | no  | yes | yes | Lud-Isar | good   | no  | yes |\n",
       "| 2 | 715.82 | 11.01 |  65 | 2 | 1995 | no  | yes | yes | Lud-Isar | good   | no  | yes |\n",
       "| 3 | 528.25 |  8.38 |  63 | 3 | 1918 | no  | yes | yes | Lud-Isar | good   | no  | yes |\n",
       "| 4 | 553.99 |  8.52 |  65 | 3 | 1983 | yes | yes | yes | Ram-Per  | normal | no  | yes |\n",
       "| 5 | 698.21 |  6.98 | 100 | 4 | 1995 | yes | yes | yes | Ram-Per  | good   | yes | yes |\n",
       "\n"
      ],
      "text/plain": [
       "  rent   rentsqm area rooms yearc bathextra bathtile cheating district location\n",
       "1 741.39 10.90    68  2     1918  no        yes      yes      Lud-Isar good    \n",
       "2 715.82 11.01    65  2     1995  no        yes      yes      Lud-Isar good    \n",
       "3 528.25  8.38    63  3     1918  no        yes      yes      Lud-Isar good    \n",
       "4 553.99  8.52    65  3     1983  yes       yes      yes      Ram-Per  normal  \n",
       "5 698.21  6.98   100  4     1995  yes       yes      yes      Ram-Per  good    \n",
       "  upkitchen wwater\n",
       "1 no        yes   \n",
       "2 no        yes   \n",
       "3 no        yes   \n",
       "4 no        yes   \n",
       "5 yes       yes   "
      ]
     },
     "metadata": {},
     "output_type": "display_data"
    }
   ],
   "source": [
    "data(munichrent03)\n",
    "head(munichrent03,5)"
   ]
  },
  {
   "cell_type": "code",
   "execution_count": null,
   "id": "efb4569f-61b2-4e39-978f-1cfba81be76e",
   "metadata": {},
   "outputs": [],
   "source": [
    "#library(readr)\n",
    "#write_csv(data, \"Munich03.csv\")"
   ]
  }
 ],
 "metadata": {
  "kernelspec": {
   "display_name": "R",
   "language": "R",
   "name": "ir"
  },
  "language_info": {
   "codemirror_mode": "r",
   "file_extension": ".r",
   "mimetype": "text/x-r-source",
   "name": "R",
   "pygments_lexer": "r",
   "version": "4.4.3"
  }
 },
 "nbformat": 4,
 "nbformat_minor": 5
}
